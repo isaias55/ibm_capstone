{
    "cells": [
        {
            "cell_type": "markdown",
            "metadata": {
                "collapsed": true
            },
            "source": "# Business Problem"
        },
        {
            "cell_type": "markdown",
            "metadata": {},
            "source": "Las Vegas locals have a problem when handling their health. According to a study conducted by Southern Nevada Health district, about 25% of locals are obese. This number is far greater than imaginable. Adults with high cholesterol reaching around 40%. These numbers will only get higher if Vegas people are not educated about their health. I believe that creating more gyms around the valley will reduce the number of obese people and keep them at a low overweight level rather than obese. There are not many gyms around the valley and sometimes people go out of their way in order to have a decent workout. Some gyms were built years ago and are older with crimes happening around and patrons don't want to be near an area that is full of criminal activities. Creating a safe area to workout will allow the gyms not only to utilize the inside, but even outside recreational areas and not be worried about crimes happening. Most of the gyms when are open get overpopulated as well and this prevents some patrons of working out fully. Our question here is would having gyms in the edges of Las Vegas Valley prevent overcrouded gyms, and would it have a lower crime rate?"
        },
        {
            "cell_type": "markdown",
            "metadata": {},
            "source": " # Data"
        },
        {
            "cell_type": "markdown",
            "metadata": {},
            "source": "The data that will be gathered for this project will come from gyms in Las Vegas, as well as crime rates.\n* Crime dataset will be used from Kaggle\n* Gym data will be gathered by Foursquare API"
        }
    ],
    "metadata": {
        "kernelspec": {
            "display_name": "Python 3.6",
            "language": "python",
            "name": "python3"
        },
        "language_info": {
            "codemirror_mode": {
                "name": "ipython",
                "version": 3
            },
            "file_extension": ".py",
            "mimetype": "text/x-python",
            "name": "python",
            "nbconvert_exporter": "python",
            "pygments_lexer": "ipython3",
            "version": "3.6.9"
        }
    },
    "nbformat": 4,
    "nbformat_minor": 1
}